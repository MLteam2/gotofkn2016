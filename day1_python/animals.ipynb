{
 "cells": [
  {
   "cell_type": "markdown",
   "metadata": {},
   "source": [
    "# Куда девать кота\n",
    "\n",
    "---\n",
    "\n",
    "Эта тетрадка научит тебя использовать pandas, numpy, строить графики в matplotlib и обращаться с животными.\n",
    "\n",
    "![img](http://i2.kym-cdn.com/photos/images/original/000/470/697/b6e.jpg)\n",
    "\n",
    "Начнём!\n",
    "\n",
    "\n",
    "* Клетки можно просто выполнять (выделить и ctrl+enter или shift+enter - чтобы сразу выделить следующую)\n",
    "* По надобности их можно создавать (\"плюсик\" в панели наверху)\n",
    "* В некоторых клетках нужно дописать код, что именно - пишется в комментариях рядом"
   ]
  },
  {
   "cell_type": "markdown",
   "metadata": {},
   "source": [
    "## загрузим данные c Pandas"
   ]
  },
  {
   "cell_type": "code",
   "execution_count": 1,
   "metadata": {
    "collapsed": false
   },
   "outputs": [],
   "source": [
    "# подключим модуль Pandas. Он нужен, чтобы работать с данными\n",
    "import pandas\n",
    "\n",
    "# считаем данные\n",
    "data = pandas.DataFrame.from_csv('train.csv')"
   ]
  },
  {
   "cell_type": "code",
   "execution_count": 2,
   "metadata": {
    "collapsed": false
   },
   "outputs": [
    {
     "data": {
      "text/html": [
       "<div>\n",
       "<table border=\"1\" class=\"dataframe\">\n",
       "  <thead>\n",
       "    <tr style=\"text-align: right;\">\n",
       "      <th></th>\n",
       "      <th>Name</th>\n",
       "      <th>DateTime</th>\n",
       "      <th>OutcomeType</th>\n",
       "      <th>OutcomeSubtype</th>\n",
       "      <th>AnimalType</th>\n",
       "      <th>SexuponOutcome</th>\n",
       "      <th>AgeuponOutcome</th>\n",
       "      <th>Breed</th>\n",
       "      <th>Color</th>\n",
       "    </tr>\n",
       "    <tr>\n",
       "      <th>AnimalID</th>\n",
       "      <th></th>\n",
       "      <th></th>\n",
       "      <th></th>\n",
       "      <th></th>\n",
       "      <th></th>\n",
       "      <th></th>\n",
       "      <th></th>\n",
       "      <th></th>\n",
       "      <th></th>\n",
       "    </tr>\n",
       "  </thead>\n",
       "  <tbody>\n",
       "    <tr>\n",
       "      <th>A671945</th>\n",
       "      <td>Hambone</td>\n",
       "      <td>2014-02-12 18:22:00</td>\n",
       "      <td>Return_to_owner</td>\n",
       "      <td>NaN</td>\n",
       "      <td>Dog</td>\n",
       "      <td>Neutered Male</td>\n",
       "      <td>1 year</td>\n",
       "      <td>Shetland Sheepdog Mix</td>\n",
       "      <td>Brown/White</td>\n",
       "    </tr>\n",
       "    <tr>\n",
       "      <th>A656520</th>\n",
       "      <td>Emily</td>\n",
       "      <td>2013-10-13 12:44:00</td>\n",
       "      <td>Euthanasia</td>\n",
       "      <td>Suffering</td>\n",
       "      <td>Cat</td>\n",
       "      <td>Spayed Female</td>\n",
       "      <td>1 year</td>\n",
       "      <td>Domestic Shorthair Mix</td>\n",
       "      <td>Cream Tabby</td>\n",
       "    </tr>\n",
       "    <tr>\n",
       "      <th>A686464</th>\n",
       "      <td>Pearce</td>\n",
       "      <td>2015-01-31 12:28:00</td>\n",
       "      <td>Adoption</td>\n",
       "      <td>Foster</td>\n",
       "      <td>Dog</td>\n",
       "      <td>Neutered Male</td>\n",
       "      <td>2 years</td>\n",
       "      <td>Pit Bull Mix</td>\n",
       "      <td>Blue/White</td>\n",
       "    </tr>\n",
       "    <tr>\n",
       "      <th>A683430</th>\n",
       "      <td>NaN</td>\n",
       "      <td>2014-07-11 19:09:00</td>\n",
       "      <td>Transfer</td>\n",
       "      <td>Partner</td>\n",
       "      <td>Cat</td>\n",
       "      <td>Intact Male</td>\n",
       "      <td>3 weeks</td>\n",
       "      <td>Domestic Shorthair Mix</td>\n",
       "      <td>Blue Cream</td>\n",
       "    </tr>\n",
       "    <tr>\n",
       "      <th>A667013</th>\n",
       "      <td>NaN</td>\n",
       "      <td>2013-11-15 12:52:00</td>\n",
       "      <td>Transfer</td>\n",
       "      <td>Partner</td>\n",
       "      <td>Dog</td>\n",
       "      <td>Neutered Male</td>\n",
       "      <td>2 years</td>\n",
       "      <td>Lhasa Apso/Miniature Poodle</td>\n",
       "      <td>Tan</td>\n",
       "    </tr>\n",
       "    <tr>\n",
       "      <th>A677334</th>\n",
       "      <td>Elsa</td>\n",
       "      <td>2014-04-25 13:04:00</td>\n",
       "      <td>Transfer</td>\n",
       "      <td>Partner</td>\n",
       "      <td>Dog</td>\n",
       "      <td>Intact Female</td>\n",
       "      <td>1 month</td>\n",
       "      <td>Cairn Terrier/Chihuahua Shorthair</td>\n",
       "      <td>Black/Tan</td>\n",
       "    </tr>\n",
       "    <tr>\n",
       "      <th>A699218</th>\n",
       "      <td>Jimmy</td>\n",
       "      <td>2015-03-28 13:11:00</td>\n",
       "      <td>Transfer</td>\n",
       "      <td>Partner</td>\n",
       "      <td>Cat</td>\n",
       "      <td>Intact Male</td>\n",
       "      <td>3 weeks</td>\n",
       "      <td>Domestic Shorthair Mix</td>\n",
       "      <td>Blue Tabby</td>\n",
       "    </tr>\n",
       "    <tr>\n",
       "      <th>A701489</th>\n",
       "      <td>NaN</td>\n",
       "      <td>2015-04-30 17:02:00</td>\n",
       "      <td>Transfer</td>\n",
       "      <td>Partner</td>\n",
       "      <td>Cat</td>\n",
       "      <td>Unknown</td>\n",
       "      <td>3 weeks</td>\n",
       "      <td>Domestic Shorthair Mix</td>\n",
       "      <td>Brown Tabby</td>\n",
       "    </tr>\n",
       "    <tr>\n",
       "      <th>A671784</th>\n",
       "      <td>Lucy</td>\n",
       "      <td>2014-02-04 17:17:00</td>\n",
       "      <td>Adoption</td>\n",
       "      <td>NaN</td>\n",
       "      <td>Dog</td>\n",
       "      <td>Spayed Female</td>\n",
       "      <td>5 months</td>\n",
       "      <td>American Pit Bull Terrier Mix</td>\n",
       "      <td>Red/White</td>\n",
       "    </tr>\n",
       "    <tr>\n",
       "      <th>A677747</th>\n",
       "      <td>NaN</td>\n",
       "      <td>2014-05-03 07:48:00</td>\n",
       "      <td>Adoption</td>\n",
       "      <td>Offsite</td>\n",
       "      <td>Dog</td>\n",
       "      <td>Spayed Female</td>\n",
       "      <td>1 year</td>\n",
       "      <td>Cairn Terrier</td>\n",
       "      <td>White</td>\n",
       "    </tr>\n",
       "  </tbody>\n",
       "</table>\n",
       "</div>"
      ],
      "text/plain": [
       "             Name             DateTime      OutcomeType OutcomeSubtype  \\\n",
       "AnimalID                                                                 \n",
       "A671945   Hambone  2014-02-12 18:22:00  Return_to_owner            NaN   \n",
       "A656520     Emily  2013-10-13 12:44:00       Euthanasia      Suffering   \n",
       "A686464    Pearce  2015-01-31 12:28:00         Adoption         Foster   \n",
       "A683430       NaN  2014-07-11 19:09:00         Transfer        Partner   \n",
       "A667013       NaN  2013-11-15 12:52:00         Transfer        Partner   \n",
       "A677334      Elsa  2014-04-25 13:04:00         Transfer        Partner   \n",
       "A699218     Jimmy  2015-03-28 13:11:00         Transfer        Partner   \n",
       "A701489       NaN  2015-04-30 17:02:00         Transfer        Partner   \n",
       "A671784      Lucy  2014-02-04 17:17:00         Adoption            NaN   \n",
       "A677747       NaN  2014-05-03 07:48:00         Adoption        Offsite   \n",
       "\n",
       "         AnimalType SexuponOutcome AgeuponOutcome  \\\n",
       "AnimalID                                            \n",
       "A671945         Dog  Neutered Male         1 year   \n",
       "A656520         Cat  Spayed Female         1 year   \n",
       "A686464         Dog  Neutered Male        2 years   \n",
       "A683430         Cat    Intact Male        3 weeks   \n",
       "A667013         Dog  Neutered Male        2 years   \n",
       "A677334         Dog  Intact Female        1 month   \n",
       "A699218         Cat    Intact Male        3 weeks   \n",
       "A701489         Cat        Unknown        3 weeks   \n",
       "A671784         Dog  Spayed Female       5 months   \n",
       "A677747         Dog  Spayed Female         1 year   \n",
       "\n",
       "                                      Breed        Color  \n",
       "AnimalID                                                  \n",
       "A671945               Shetland Sheepdog Mix  Brown/White  \n",
       "A656520              Domestic Shorthair Mix  Cream Tabby  \n",
       "A686464                        Pit Bull Mix   Blue/White  \n",
       "A683430              Domestic Shorthair Mix   Blue Cream  \n",
       "A667013         Lhasa Apso/Miniature Poodle          Tan  \n",
       "A677334   Cairn Terrier/Chihuahua Shorthair    Black/Tan  \n",
       "A699218              Domestic Shorthair Mix   Blue Tabby  \n",
       "A701489              Domestic Shorthair Mix  Brown Tabby  \n",
       "A671784       American Pit Bull Terrier Mix    Red/White  \n",
       "A677747                       Cairn Terrier        White  "
      ]
     },
     "execution_count": 2,
     "metadata": {},
     "output_type": "execute_result"
    }
   ],
   "source": [
    "# Данные - таблица, двумерный массив\n",
    "data[:10]"
   ]
  },
  {
   "cell_type": "markdown",
   "metadata": {},
   "source": [
    "## Расшифровка колонок\n",
    "* Name - Имя(строка)\n",
    "* DateTime - Время\n",
    "* OutcomeType - Исход\n",
    " * Return_to_owner - Возврат владельцу\n",
    " * Adoption - Новый хозяин\n",
    " * Transfer - Перевод\n",
    " * Euthanasia - Эвтаназия (умерщвление)\n",
    " * Died - Смерть\n",
    "* OutcomeSubtype - Подтип исхода\n",
    "* AnimalType - Вид животного\n",
    "* SexuponOutcome - Пол + стерилизация\n",
    "* AgeuponOutcome - Возраст (строка)\n",
    "* Breed - Порода\n",
    "* Color - Цвет\n",
    "\n",
    "В некоторых колонках встречается NaN - значит, что у данного животного данная колонка неизвестна (квест - найти их глазами в данных выше)"
   ]
  },
  {
   "cell_type": "code",
   "execution_count": 16,
   "metadata": {
    "collapsed": false
   },
   "outputs": [
    {
     "name": "stdout",
     "output_type": "stream",
     "text": [
      "len(data) =  26729\n",
      "data.shape =  (26729, 9)\n"
     ]
    }
   ],
   "source": [
    "# размеры таблицы\n",
    "print('len(data) = ', len(data))\n",
    "print('data.shape = ', data.shape)"
   ]
  },
  {
   "cell_type": "code",
   "execution_count": 31,
   "metadata": {
    "collapsed": false
   },
   "outputs": [
    {
     "name": "stdout",
     "output_type": "stream",
     "text": [
      "Name                                      NaN\n",
      "DateTime                  2013-11-15 12:52:00\n",
      "OutcomeType                          Transfer\n",
      "OutcomeSubtype                        Partner\n",
      "AnimalType                                Dog\n",
      "SexuponOutcome                  Neutered Male\n",
      "AgeuponOutcome                        2 years\n",
      "Breed             Lhasa Apso/Miniature Poodle\n",
      "Color                                     Tan\n",
      "Name: A667013, dtype: object\n"
     ]
    }
   ],
   "source": [
    "# вот так можно получить четвёртую строку таблицы, считая с нуля\n",
    "print(data.iloc[4])"
   ]
  },
  {
   "cell_type": "code",
   "execution_count": 18,
   "metadata": {
    "collapsed": false
   },
   "outputs": [
    {
     "name": "stdout",
     "output_type": "stream",
     "text": [
      "             Name             DateTime      OutcomeType OutcomeSubtype  \\\n",
      "AnimalID                                                                 \n",
      "A671945   Hambone  2014-02-12 18:22:00  Return_to_owner            NaN   \n",
      "A656520     Emily  2013-10-13 12:44:00       Euthanasia      Suffering   \n",
      "A686464    Pearce  2015-01-31 12:28:00         Adoption         Foster   \n",
      "A683430       NaN  2014-07-11 19:09:00         Transfer        Partner   \n",
      "A667013       NaN  2013-11-15 12:52:00         Transfer        Partner   \n",
      "\n",
      "         AnimalType SexuponOutcome AgeuponOutcome  \\\n",
      "AnimalID                                            \n",
      "A671945         Dog  Neutered Male         1 year   \n",
      "A656520         Cat  Spayed Female         1 year   \n",
      "A686464         Dog  Neutered Male        2 years   \n",
      "A683430         Cat    Intact Male        3 weeks   \n",
      "A667013         Dog  Neutered Male        2 years   \n",
      "\n",
      "                                Breed        Color  \n",
      "AnimalID                                            \n",
      "A671945         Shetland Sheepdog Mix  Brown/White  \n",
      "A656520        Domestic Shorthair Mix  Cream Tabby  \n",
      "A686464                  Pit Bull Mix   Blue/White  \n",
      "A683430        Domestic Shorthair Mix   Blue Cream  \n",
      "A667013   Lhasa Apso/Miniature Poodle          Tan  \n"
     ]
    }
   ],
   "source": [
    "# первые 5 строк\n",
    "print(data[0:5])"
   ]
  },
  {
   "cell_type": "code",
   "execution_count": 34,
   "metadata": {
    "collapsed": false
   },
   "outputs": [
    {
     "name": "stdout",
     "output_type": "stream",
     "text": [
      "AnimalID\n",
      "A671945    Return_to_owner\n",
      "A656520         Euthanasia\n",
      "A686464           Adoption\n",
      "A683430           Transfer\n",
      "A667013           Transfer\n",
      "A677334           Transfer\n",
      "A699218           Transfer\n",
      "A701489           Transfer\n",
      "A671784           Adoption\n",
      "A677747           Adoption\n",
      "A668402           Transfer\n",
      "A666320           Adoption\n",
      "A684601           Adoption\n",
      "A704702    Return_to_owner\n",
      "A688584    Return_to_owner\n",
      "A678825           Adoption\n",
      "A678050           Transfer\n",
      "A680028           Transfer\n",
      "A679010           Transfer\n",
      "A684787    Return_to_owner\n",
      "A670658           Transfer\n",
      "A708812           Transfer\n",
      "A705262           Adoption\n",
      "A665781           Adoption\n",
      "A676333    Return_to_owner\n",
      "A712750           Transfer\n",
      "A718832           Adoption\n",
      "A698777           Adoption\n",
      "A715348           Adoption\n",
      "A708666    Return_to_owner\n",
      "                ...       \n",
      "A676460         Euthanasia\n",
      "A704999    Return_to_owner\n",
      "A678842           Transfer\n",
      "A713637               Died\n",
      "A716670           Transfer\n",
      "A716223           Transfer\n",
      "A662498           Transfer\n",
      "A689942           Adoption\n",
      "A682690         Euthanasia\n",
      "A666920           Transfer\n",
      "A714386           Adoption\n",
      "A692622           Transfer\n",
      "A666284           Transfer\n",
      "A535277    Return_to_owner\n",
      "A671169         Euthanasia\n",
      "A679031           Adoption\n",
      "A708833           Adoption\n",
      "A697158           Adoption\n",
      "A519949    Return_to_owner\n",
      "A701044           Adoption\n",
      "A707871           Transfer\n",
      "A704405           Adoption\n",
      "A662019           Adoption\n",
      "A687056           Transfer\n",
      "A716997           Adoption\n",
      "A702446           Transfer\n",
      "A718934           Transfer\n",
      "A698128           Adoption\n",
      "A677478           Transfer\n",
      "A706629           Transfer\n",
      "Name: OutcomeType, dtype: object\n"
     ]
    }
   ],
   "source": [
    "# так можно получить второй столбец (считая с нуля)\n",
    "# print(data.iloc[:, 2])\n",
    "# но проще - вот так:\n",
    "print(data['OutcomeType'])\n",
    "# или даже так: data.OutcomeType"
   ]
  },
  {
   "cell_type": "code",
   "execution_count": 35,
   "metadata": {
    "collapsed": false
   },
   "outputs": [
    {
     "data": {
      "text/html": [
       "<div>\n",
       "<table border=\"1\" class=\"dataframe\">\n",
       "  <thead>\n",
       "    <tr style=\"text-align: right;\">\n",
       "      <th></th>\n",
       "      <th>Name</th>\n",
       "      <th>OutcomeType</th>\n",
       "    </tr>\n",
       "    <tr>\n",
       "      <th>AnimalID</th>\n",
       "      <th></th>\n",
       "      <th></th>\n",
       "    </tr>\n",
       "  </thead>\n",
       "  <tbody>\n",
       "    <tr>\n",
       "      <th>A677334</th>\n",
       "      <td>Elsa</td>\n",
       "      <td>Transfer</td>\n",
       "    </tr>\n",
       "    <tr>\n",
       "      <th>A699218</th>\n",
       "      <td>Jimmy</td>\n",
       "      <td>Transfer</td>\n",
       "    </tr>\n",
       "    <tr>\n",
       "      <th>A701489</th>\n",
       "      <td>NaN</td>\n",
       "      <td>Transfer</td>\n",
       "    </tr>\n",
       "    <tr>\n",
       "      <th>A671784</th>\n",
       "      <td>Lucy</td>\n",
       "      <td>Adoption</td>\n",
       "    </tr>\n",
       "    <tr>\n",
       "      <th>A677747</th>\n",
       "      <td>NaN</td>\n",
       "      <td>Adoption</td>\n",
       "    </tr>\n",
       "  </tbody>\n",
       "</table>\n",
       "</div>"
      ],
      "text/plain": [
       "           Name OutcomeType\n",
       "AnimalID                   \n",
       "A677334    Elsa    Transfer\n",
       "A699218   Jimmy    Transfer\n",
       "A701489     NaN    Transfer\n",
       "A671784    Lucy    Adoption\n",
       "A677747     NaN    Adoption"
      ]
     },
     "execution_count": 35,
     "metadata": {},
     "output_type": "execute_result"
    }
   ],
   "source": [
    "# несколько колонок, несколько строк\n",
    "data[['Name','OutcomeType']][5:10]"
   ]
  },
  {
   "cell_type": "code",
   "execution_count": 154,
   "metadata": {
    "collapsed": false
   },
   "outputs": [
    {
     "data": {
      "text/plain": [
       "365"
      ]
     },
     "execution_count": 154,
     "metadata": {},
     "output_type": "execute_result"
    }
   ],
   "source": [
    "# Функция по переводу строки с возрастом в количество дней\n",
    "def age_to_days(s):\n",
    "    assert type(s) == str\n",
    "    n, t = s.strip().split()\n",
    "    costs = {'year' : 365,\n",
    "             'years' : 365,\n",
    "             'month' : 30,\n",
    "             'months' : 30,\n",
    "             'week' : 7,\n",
    "             'weeks' : 7,\n",
    "             'day' : 1,\n",
    "             'days' : 1}\n",
    "    \n",
    "    return int(n) * costs[t.lower()]\n",
    "\n",
    "age_to_days('1 Years')"
   ]
  },
  {
   "cell_type": "markdown",
   "metadata": {},
   "source": [
    "## Теперь сам\n",
    "\n",
    "* выведи данные о 1, 13, 666 и последнем котике. Кто из них выжил?\n",
    "* выведи данные о столбике 'OutcomeType' - Исход.\n",
    "* напиши программу, которая считает, сколько всего котиков выжило и сколько песиков страдало \n",
    "\n",
    "! Обрати внимание, что в данных может быть мусор (NaN, пустые значения) ! \n",
    "\n",
    "Их можно найти и удалить. Подумай (или погугли), как это сделать в питоне"
   ]
  },
  {
   "cell_type": "code",
   "execution_count": null,
   "metadata": {
    "collapsed": false
   },
   "outputs": [],
   "source": [
    "# <1,13, 666 и последний из пассажиров>"
   ]
  },
  {
   "cell_type": "code",
   "execution_count": null,
   "metadata": {
    "collapsed": false
   },
   "outputs": [],
   "source": [
    "# столбик"
   ]
  },
  {
   "cell_type": "code",
   "execution_count": null,
   "metadata": {
    "collapsed": false
   },
   "outputs": [],
   "source": [
    "# программа"
   ]
  },
  {
   "cell_type": "code",
   "execution_count": null,
   "metadata": {
    "collapsed": true
   },
   "outputs": [],
   "source": [
    "# Бонус - посчитай средний возраст выжившей животны"
   ]
  },
  {
   "cell_type": "markdown",
   "metadata": {},
   "source": [
    "# Numpy и векторные операции"
   ]
  },
  {
   "cell_type": "code",
   "execution_count": 57,
   "metadata": {
    "collapsed": false
   },
   "outputs": [
    {
     "name": "stdout",
     "output_type": "stream",
     "text": [
      "a =  [1 2 3 4 5]\n",
      "b =  [5 4 3 2 1]\n",
      "a+1 = [2 3 4 5 6]\n",
      "a*2 = [ 2  4  6  8 10]\n",
      "a==2 [False  True False False False]\n",
      "a+b = [6 6 6 6 6]\n",
      "a*b = [5 8 9 8 5]\n"
     ]
    }
   ],
   "source": [
    "# загружаем numpy. Это быстрая библиотека для математики\n",
    "import numpy\n",
    "\n",
    "# основная структура данных - массив\n",
    "a = numpy.array([1,2,3,4,5])\n",
    "b = numpy.array([5,4,3,2,1])\n",
    "print('a = ', a)\n",
    "print('b = ', b)\n",
    "\n",
    "# математические и логические операции считаются для каждого элемента массива\n",
    "print('a+1 =', a+1)\n",
    "print('a*2 =', a*2)\n",
    "print('a==2', a==2)\n",
    "# если в операции участвуют 2 массива, операции считаются для соответствующих пар\n",
    "print('a+b =', a+b)\n",
    "print('a*b =', a*b)"
   ]
  },
  {
   "cell_type": "code",
   "execution_count": null,
   "metadata": {
    "collapsed": false
   },
   "outputs": [],
   "source": [
    "# а теперь сам\n",
    "print('Разность между a и b:', #<твой код>)\n",
    "print('Квадраты элементов b:', #<твой код>)\n",
    "print('Половины элементов массива a:', #<твой код>)\n",
    "print('Половины произведений элементов массивов a и b:', #<твой код>)\n",
    "print('Частное разности элементов a и единицы с квадратами b:', #<твой код>)"
   ]
  },
  {
   "cell_type": "code",
   "execution_count": 58,
   "metadata": {
    "collapsed": false
   },
   "outputs": [
    {
     "name": "stdout",
     "output_type": "stream",
     "text": [
      "numpy.sum(a) =  15\n",
      "numpy.min(a) =  1\n",
      "numpy.argmin(b) =  4\n",
      "numpy.max(a) =  5\n",
      "numpy.argmax(b) =  0\n",
      "numpy.average(a) =  3.0\n",
      "numpy.unique(['male','male','female','female','male']) =  ['female' 'male']\n"
     ]
    }
   ],
   "source": [
    "# а ещё в numpy есть много функций\n",
    "\n",
    "print('numpy.sum(a) = ', numpy.sum(a))\n",
    "print('numpy.min(a) = ', numpy.min(a))\n",
    "print('numpy.argmin(b) = ', numpy.argmin(b)) #индекс минимального элемента\n",
    "print('numpy.max(a) = ', numpy.max(a))\n",
    "print('numpy.argmax(b) = ', numpy.argmax(b)) #индекс максимального\n",
    "print('numpy.average(a) = ', numpy.average(a))\n",
    "print(\"numpy.unique(['male','male','female','female','male']) = \", numpy.unique(['male','male','female','female','male']))\n",
    "# и ещё много  всего ..."
   ]
  },
  {
   "cell_type": "code",
   "execution_count": 117,
   "metadata": {
    "collapsed": false
   },
   "outputs": [
    {
     "name": "stdout",
     "output_type": "stream",
     "text": [
      "26729 всего животных\n",
      "19038 Животных с известным именем\n"
     ]
    }
   ],
   "source": [
    "# [это важно для задания] \n",
    "# А вот так можно выделять данные, в которых определённая колонка - не NaN\n",
    "\n",
    "name_is_nan = data.Name.isnull() #массив bool - является ли у данного животного Имя NaN\n",
    "\n",
    "data_with_name = data[numpy.logical_not(name_is_nan)] # все животные, у которых имя - не NaN (отдельная таблица)\n",
    "\n",
    "print(len(data), 'всего животных')\n",
    "print(len(data_with_name), 'Животных с известным именем')"
   ]
  },
  {
   "cell_type": "code",
   "execution_count": 12,
   "metadata": {
    "collapsed": false
   },
   "outputs": [
    {
     "name": "stdout",
     "output_type": "stream",
     "text": [
      "\n",
      "\n",
      "\n"
     ]
    }
   ],
   "source": [
    "# мини-квест:\n",
    "# реши свою предыдущую задачу в 1-2 строчки с использованием numpy\n",
    "# подсказка: если массив состоит из 0 и 1 (True и False), то \n",
    "# сумма = количестно единичек \n",
    "# среднее значение = вероятность единички\n",
    "print(#<твой код>)\n",
    "\n",
    "# найди животное с (минимальным/максимальным) возрастом. Сколько ему лет? Выжил ли он? Как его звали? Какого онj пола?\n",
    "print(#<твой код>)"
   ]
  },
  {
   "cell_type": "code",
   "execution_count": 139,
   "metadata": {
    "collapsed": false
   },
   "outputs": [
    {
     "name": "stdout",
     "output_type": "stream",
     "text": [
      "логические операции\n",
      "a>2 [False False  True  True  True]\n",
      "numpy.logical_not(a>2) =  [ True  True False False False]\n",
      "numpy.logical_and(a>2,b>2) =  [False False  True False False]\n",
      "numpy.logical_or(a>4,b<3) =  [False False  True  True  True]\n",
      "\n",
      "или проще\n",
      "~(a>2) =  [ True  True False False False]\n",
      "a>2)&(b>2) =  [False False  True False False]\n",
      "(a>2)|(b<3) =  [False False  True  True  True]\n",
      "\n",
      "\n",
      "Индексация\n",
      "a > 3 = [False False False  True  True]\n",
      "a[a>3] = [4 5]\n",
      "numpy.where(a>3) = (array([3, 4]),)\n",
      "a[numpy.where(a>3)] = [4 5]\n"
     ]
    }
   ],
   "source": [
    "print('логические операции')\n",
    "\n",
    "print('a>2', a>2)\n",
    "print('numpy.logical_not(a>2) = ',numpy.logical_not(a>2))\n",
    "print('numpy.logical_and(a>2,b>2) = ', numpy.logical_and(a>2, b>2))\n",
    "print('numpy.logical_or(a>4,b<3) = ', numpy.logical_or(a>2, b<3))\n",
    "\n",
    "print('\\nили проще')\n",
    "print('~(a>2) = ', ~(a>2))  #как logical_not\n",
    "print('a>2)&(b>2) = ', (a>2)&(b>2)) #как logical_and\n",
    "print('(a>2)|(b<3) = ', (a>2)|(b<3))    #как logical_or\n",
    "\n",
    "\n",
    "print('\\n\\nИндексация')\n",
    "\n",
    "#индексация - выбираем эллементы из массима\n",
    "print('a > 3 =', a>3)\n",
    "print('a[a>3] =', a[a>3])\n",
    "print('numpy.where(a>3) =', numpy.where(a>3)) #где в массиве лежат True (кортеж, в котором лежит массив)\n",
    "print('a[numpy.where(a>3)] =',a[numpy.where(a>3)])"
   ]
  },
  {
   "cell_type": "markdown",
   "metadata": {},
   "source": [
    "### теперь сам"
   ]
  },
  {
   "cell_type": "markdown",
   "metadata": {},
   "source": [
    "Квесты\n",
    "* 1) сколько всего подтипов исхода и какие они? ('OutcomeSubtype')\n",
    "* 2) какой средний возраст для каждого из подтипов исхода?\n",
    "* 3) в каком подтипе исхода больше собак ? \n",
    "* 4) все ли кошки стерилизованы ?\n",
    "\n",
    "Бонусные сайд-квесты\n",
    "* 1) какие бывают породы ?\n",
    "* 2) У какой породы больше всего представителей в выборке ?\n",
    "* 3) У какой породы больше всего стерилизованных особей ?"
   ]
  },
  {
   "cell_type": "code",
   "execution_count": null,
   "metadata": {
    "collapsed": false
   },
   "outputs": [],
   "source": [
    "# твой код\n",
    "\n",
    "# здесь\n",
    "\n",
    "# /твой код"
   ]
  },
  {
   "cell_type": "code",
   "execution_count": null,
   "metadata": {
    "collapsed": false
   },
   "outputs": [],
   "source": [
    "# Выдели в отдельные наборы мужчин и женщин\n",
    "# за пол отвечает колонка \"SexuponOutcome\"\n",
    "# И придется немного поработать со строчками, чтобы отделить пол от стерилизации\n",
    "\n",
    "men = #<твой код>\n",
    "women = #<твой код>\n",
    "\n",
    "#Кто с большей вероятностью выживет: мужчина или женщина?\n",
    "print('P(выжил|мужчина) = ', #<твой код>)\n",
    "print('P(выжил|женщина) = ', #<твой код>)"
   ]
  },
  {
   "cell_type": "markdown",
   "metadata": {},
   "source": [
    "## битва полов:\n",
    "* Кого чаще стерилизуют ?\n",
    "* кто в среднем моложе?"
   ]
  },
  {
   "cell_type": "code",
   "execution_count": null,
   "metadata": {
    "collapsed": true
   },
   "outputs": [],
   "source": [
    "# Тут Ваш код"
   ]
  },
  {
   "cell_type": "markdown",
   "metadata": {},
   "source": [
    "## Бонус: насколько она быстрая, Гарри?\n",
    "Испытаем numpy на скорость\n",
    "* создадим 2 массива по 10^6 элементов\n",
    " * первый - числа от 0 до 1 000 000 не включая конец\n",
    " * второй - числа от 99 до 1 000 099 не включая конец\n",
    "* посчитаем:\n",
    " * поэллементную сумму\n",
    " * поэллементное произведение\n",
    " * корень квадратный эллементов первого массива\n",
    " * сумму всех элементов первого массива (одно число)\n",
    " \n",
    "* Сделаем это 3-мя способами\n",
    " * чистый python и списки\n",
    " * начинаем в python, преобразуем в numpy и \n",
    "\n"
   ]
  },
  {
   "cell_type": "code",
   "execution_count": 140,
   "metadata": {
    "collapsed": false
   },
   "outputs": [
    {
     "name": "stdout",
     "output_type": "stream",
     "text": [
      "CPU times: user 1.85 s, sys: 70.8 ms, total: 1.93 s\n",
      "Wall time: 1.95 s\n"
     ]
    }
   ],
   "source": [
    "%%time\n",
    "# эта штука считает время выполнения КЛЕТКИ (должна быть на первой строчке клетки)\n",
    "# время печатается в конце (точное время - total )\n",
    "\n",
    "\n",
    "# без numpy, чистый python\n",
    "arr_1 = range(1000000)\n",
    "arr_2 = range(99,1000099)\n",
    "\n",
    "\n",
    "a_sum = []\n",
    "a_prod = []\n",
    "sqrt_a1 = []\n",
    "for i in range(len(arr_1)):\n",
    "    a_sum.append(arr_1[i]+arr_2[i])\n",
    "    a_prod.append(arr_1[i]*arr_2[i])\n",
    "    a_sum.append(arr_1[i]**0.5)\n",
    "    \n",
    "# сумма всех элементов arr_1\n",
    "arr_1_sum = sum(arr_1)"
   ]
  },
  {
   "cell_type": "code",
   "execution_count": 141,
   "metadata": {
    "collapsed": false
   },
   "outputs": [
    {
     "name": "stdout",
     "output_type": "stream",
     "text": [
      "CPU times: user 490 ms, sys: 118 ms, total: 608 ms\n",
      "Wall time: 605 ms\n"
     ]
    }
   ],
   "source": [
    "%%time\n",
    "\n",
    "#с numpy, преобразуя из list\n",
    "arr_1 = range(1000000)\n",
    "arr_2 = range(99,1000099)\n",
    "\n",
    "arr_1, arr_2 = numpy.array(arr_1) , numpy.array(arr_2)\n",
    "\n",
    "a_sum = arr_1 + arr_2\n",
    "a_prod = arr_1*arr_2\n",
    "sqrt_a1 = arr_1**.5"
   ]
  },
  {
   "cell_type": "code",
   "execution_count": 142,
   "metadata": {
    "collapsed": false
   },
   "outputs": [
    {
     "name": "stdout",
     "output_type": "stream",
     "text": [
      "CPU times: user 44.6 ms, sys: 10.2 ms, total: 54.7 ms\n",
      "Wall time: 54.6 ms\n"
     ]
    }
   ],
   "source": [
    "%%time\n",
    "# чистый numpy\n",
    "arr_1 = numpy.arange(1000000)\n",
    "arr_2 = numpy.arange(99,1000099)\n",
    "\n",
    "a_sum = arr_1 + arr_2\n",
    "a_prod = arr_1*arr_2\n",
    "sqrt_a1 = arr_1**.5"
   ]
  },
  {
   "cell_type": "markdown",
   "metadata": {},
   "source": [
    "# Графики и matplotlib\n",
    "Как рисовать красивые картинки и издеваться над любителями MS Excel"
   ]
  },
  {
   "cell_type": "code",
   "execution_count": 145,
   "metadata": {
    "collapsed": false,
    "scrolled": true
   },
   "outputs": [
    {
     "data": {
      "text/plain": [
       "[<matplotlib.lines.Line2D at 0x110277e80>]"
      ]
     },
     "execution_count": 145,
     "metadata": {},
     "output_type": "execute_result"
    },
    {
     "data": {
      "image/png": "[encoded data removed]",
      "text/plain": [
       "<matplotlib.figure.Figure at 0x10d4def98>"
      ]
     },
     "metadata": {},
     "output_type": "display_data"
    }
   ],
   "source": [
    "#загрузим библиотеку\n",
    "import matplotlib.pyplot as plt #загрузить библиотеку matplotlib.pyplot под именем plt\n",
    "plt.style.use('ggplot') # Мой любимый стиль графики\n",
    "%matplotlib inline\n",
    "\n",
    "#линии\n",
    "plt.plot([0,1,2,3,4,5],[0,1,4,9,16,25])"
   ]
  },
  {
   "cell_type": "code",
   "execution_count": 146,
   "metadata": {
    "collapsed": false
   },
   "outputs": [
    {
     "data": {
      "image/png": "[encoded data removed]",
      "text/plain": [
       "<matplotlib.figure.Figure at 0x110243208>"
      ]
     },
     "metadata": {},
     "output_type": "display_data"
    },
    {
     "data": {
      "text/plain": [
       "<matplotlib.collections.PathCollection at 0x1103a6eb8>"
      ]
     },
     "execution_count": 146,
     "metadata": {},
     "output_type": "execute_result"
    },
    {
     "data": {
      "image/png": "[encoded data removed]",
      "text/plain": [
       "<matplotlib.figure.Figure at 0x11023a3c8>"
      ]
     },
     "metadata": {},
     "output_type": "display_data"
    }
   ],
   "source": [
    "#точки\n",
    "plt.scatter([0,1,2,3,4,5],[0,1,4,9,16,25])\n",
    "\n",
    "plt.show()#после этой функции всё уже построенное отрисуется и начнётся новый график\n",
    "\n",
    "#если не писать plt.show() между графиками, они накладываются\n",
    "plt.scatter([1,1,2,3],[3,2,2,1],c = [\"red\",\"blue\",\"blue\",\"green\"],marker = \"x\")\n",
    "plt.scatter([0,1,2,3,4,5],[0,1,4,9,16,25],c = \"black\")"
   ]
  },
  {
   "cell_type": "code",
   "execution_count": 147,
   "metadata": {
    "collapsed": false
   },
   "outputs": [
    {
     "data": {
      "image/png": "[encoded data removed]",
      "text/plain": [
       "<matplotlib.figure.Figure at 0x1102477f0>"
      ]
     },
     "metadata": {},
     "output_type": "display_data"
    },
    {
     "data": {
      "text/plain": [
       "(array([ 4.,  7.,  5.,  3.,  3.]),\n",
       " array([  0.,   2.,   4.,   6.,   8.,  10.]),\n",
       " <a list of 5 Patch objects>)"
      ]
     },
     "execution_count": 147,
     "metadata": {},
     "output_type": "execute_result"
    },
    {
     "data": {
      "image/png": "[encoded data removed]",
      "text/plain": [
       "<matplotlib.figure.Figure at 0x1070b1cc0>"
      ]
     },
     "metadata": {},
     "output_type": "display_data"
    }
   ],
   "source": [
    "#гистограмма\n",
    "plt.hist([0,1,1,1,2,2,3,3,3,3,3,4,4,5,5,5,6,7,7,8,9,10])\n",
    "plt.show()\n",
    "\n",
    "plt.hist([0,1,1,1,2,2,3,3,3,3,3,4,4,5,5,5,6,7,7,8,9,10],bins = 5)"
   ]
  },
  {
   "cell_type": "code",
   "execution_count": null,
   "metadata": {
    "collapsed": false
   },
   "outputs": [],
   "source": [
    "#Построй гистограмму возрастов, гистограмму пород.\n",
    "\n",
    "#<ваш код>\n",
    "\n",
    "#Бонус - узнай, как строить 2D-гистограму возрастов И пород. "
   ]
  },
  {
   "cell_type": "markdown",
   "metadata": {},
   "source": [
    "# Битва с финальным боссом\n",
    "\n",
    "При помощи интуиции, граффиков и вычислений попробуй выделить по признакам группу животных,\n",
    "в которой почти все выжили. \n",
    "\n",
    "Признаки - выражения вида:\n",
    "* [колонка] равно [значение] (пол = женский)\n",
    "* [математическое выражение] >, <, >= или <=  [значение]  (возраст старше 18 дней)\n",
    "* [колонка с именем] - [утверждение про имя]  (имя содержит \"Mr.\" и длинее 5 букв)\n",
    "\n",
    "Признаки могут использоваться через И и ИЛИ.\n",
    "\n",
    "(и только их. НЕ, импликация, XOR, эквивалентность, штрих Шифера и стрелка Пирса идут лесом)\n",
    "\n",
    "Например, все [старше 30 дней] И [породы Сибирский Медведь] И ([без имени] ИЛИ [с именем Попка]) - это 4 признака\n",
    "\n",
    "При этом:\n",
    "* Чем больше выживших животин(количество, а не доля), тем лучше;\n",
    "* В группе обязательно должны выжить более 80% животных;\n",
    "* Желательно использовать не более 5 - 10 признаков;\n",
    " * Если нашёл более 1 такой группы - перечисли несколько;\n",
    "* Гипотеза должна подтверждаться запускабельным кодом, \n",
    " * который считает число животин и шанс выжить;\n",
    " * высший пилотаж - заправить это красивыми граффиками по теме;\n",
    "\n",
    "Напутствие - возможно, будет полезно сначала изучить данные, посмотреть на графики и обусдить идеи, а потом бросаться лихорадочно пробовать всё подряд."
   ]
  },
  {
   "cell_type": "code",
   "execution_count": 163,
   "metadata": {
    "collapsed": false
   },
   "outputs": [],
   "source": [
    "# предварительные вычисления графики"
   ]
  },
  {
   "cell_type": "code",
   "execution_count": 164,
   "metadata": {
    "collapsed": false
   },
   "outputs": [],
   "source": [
    "#пример для [старше 30 дней] И [породы Сибирский Медведь] И ([без имени] ИЛИ [с именем Попка])\n",
    "\n",
    "data_with_age = data[~data.AgeuponOutcome.isnull()]\n",
    "\n",
    "age = numpy.array(list(map(age_to_days, data_with_age.AgeuponOutcome)))\n",
    "age_and_breed = numpy.logical_and(age > 30, data_with_age.Breed == 'Shetland Sheepdog Mix')\n",
    "\n",
    "# без имени ИЛИ с именем Попка\n",
    "name = numpy.logical_or(data_with_age.Name.isnull(), data_with_age.Name == 'Попка')\n",
    "\n",
    "#всё вместе\n",
    "group_indexer = numpy.logical_and(age_and_breed, name)\n",
    "\n",
    "#группа. Замените этот код на свою группу.\n",
    "group = data_with_age[group_indexer]"
   ]
  },
  {
   "cell_type": "code",
   "execution_count": 173,
   "metadata": {
    "collapsed": false
   },
   "outputs": [
    {
     "name": "stdout",
     "output_type": "stream",
     "text": [
      "Количество животин: 5\n",
      "Количество выживших: 2\n",
      "Вероятность выжить: 0.4\n",
      "Достаточно выживших: False\n"
     ]
    }
   ],
   "source": [
    "print('Количество животин:', len(group))\n",
    "print('Количество выживших:', len(group[(group.OutcomeType != 'Euthanasia') & (group.OutcomeType != 'Died')]))\n",
    "p_survived = numpy.average((group.OutcomeType != 'Euthanasia') & (group.OutcomeType != 'Died'))\n",
    "print('Вероятность выжить:', p_survived)\n",
    "print('Достаточно выживших:', p_survived > 0.8)"
   ]
  },
  {
   "cell_type": "code",
   "execution_count": null,
   "metadata": {
    "collapsed": true
   },
   "outputs": [],
   "source": [
    "# Если ещё не устал - аналогично выдели группы животин, где все погибли"
   ]
  },
  {
   "cell_type": "markdown",
   "metadata": {},
   "source": [
    "[руководства по библиотекам]\n",
    "\n",
    "  * [NumPy](http://www.numpy.org/)\n",
    "    - [руководство для пользователей Matlab](http://wiki.scipy.org/NumPy_for_Matlab_Users)\n",
    "  * [Pandas](http://pandas.pydata.org/)\n",
    "    - [пример работы с данными при помощи pandas](http://nbviewer.ipython.org/github/agconti/kaggle-titanic/blob/master/Titanic.ipynb)\n",
    "  * [Matplotlib](http://matplotlib.org/index.html)\n",
    "    - [pyplot](http://matplotlib.org/api/pyplot_api.html) — эмуляция функционала графопостроений в Matlab\n",
    "    - [галерея примеров](http://matplotlib.org/gallery.html)\n",
    "  * [SciPy](http://scipy.org/)"
   ]
  }
 ],
 "metadata": {
  "kernelspec": {
   "display_name": "Python 3",
   "language": "python",
   "name": "python3"
  },
  "language_info": {
   "codemirror_mode": {
    "name": "ipython",
    "version": 3
   },
   "file_extension": ".py",
   "mimetype": "text/x-python",
   "name": "python",
   "nbconvert_exporter": "python",
   "pygments_lexer": "ipython3",
   "version": "3.5.1"
  }
 },
 "nbformat": 4,
 "nbformat_minor": 0
}
